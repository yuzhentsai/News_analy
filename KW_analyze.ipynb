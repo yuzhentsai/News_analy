{
  "nbformat": 4,
  "nbformat_minor": 0,
  "metadata": {
    "colab": {
      "provenance": [],
      "authorship_tag": "ABX9TyOnbzCz7CDsxz3Qo+f5UDKs",
      "include_colab_link": true
    },
    "kernelspec": {
      "name": "python3",
      "display_name": "Python 3"
    },
    "language_info": {
      "name": "python"
    }
  },
  "cells": [
    {
      "cell_type": "markdown",
      "metadata": {
        "id": "view-in-github",
        "colab_type": "text"
      },
      "source": [
        "<a href=\"https://colab.research.google.com/github/yuzhentsai/News_analy/blob/main/KW_analyze.ipynb\" target=\"_parent\"><img src=\"https://colab.research.google.com/assets/colab-badge.svg\" alt=\"Open In Colab\"/></a>"
      ]
    },
    {
      "cell_type": "code",
      "execution_count": null,
      "metadata": {
        "id": "V7Arm46D-oIf"
      },
      "outputs": [],
      "source": [
        "import requests\n",
        "from bs4 import BeautifulSoup\n",
        "\n",
        "# 利用 requests 對 API 來源發送一個請求\n",
        "response = requests.get('https://udn.com/news/breaknews/1/11#breaknews')\n",
        "soup = BeautifulSoup(response.text)"
      ]
    },
    {
      "cell_type": "code",
      "source": [
        "for link in soup.find_all('h3', class_='rounded-thumb__title')[:4]:\n",
        "  news_url = link.a['href']\n",
        "  news_response = requests.get('https://udn.com' + news_url)\n",
        "  news_soup = BeautifulSoup(news_response.text)\n",
        "  news_content = news_soup.find('div', class_='article-content__paragraph').text.strip().replace('\\n', ' ')"
      ],
      "metadata": {
        "id": "_tjko8AU-81B"
      },
      "execution_count": null,
      "outputs": []
    },
    {
      "cell_type": "code",
      "source": [
        "print(news_content)"
      ],
      "metadata": {
        "colab": {
          "base_uri": "https://localhost:8080/"
        },
        "id": "mojRVNgH_Tqy",
        "outputId": "15bf2977-d5ac-48e0-de0a-4bcec15ec563"
      },
      "execution_count": null,
      "outputs": [
        {
          "output_type": "stream",
          "name": "stdout",
          "text": [
            "京華城案持續延燒，民眾黨主席柯文哲5日羈押禁見。鏡週刊報導，檢廉搜索柯文哲住家，發現USB隨身碟寫「2022/11/1小沈1500沈慶京」，引起討論。媒體人謝曜州今天在臉書表示，讓阿北從意氣風發，突然變成落寞的一刀斃命鐵證不是這個。 \r 謝曜州表示，「2022/11/1小沈1500沈慶京」這句話，看起來怎麼看都比較像是約下午3點見面。如果柯文哲有秘帳在USB裡面，「他從家裡出來的時候，怎麼可能還會這麼大聲嗆：你們這樣對我證據在哪裡？」而且地院裁定的內容是還沒有金流，顯示法官也覺得是約時間。否則就不會只有圖利罪。雖然他覺得比較像是約時間見面，但案子通過後柯文哲跟沈慶京見面，還是非常奇怪。                京華城案 柯文哲 沈慶京\n"
          ]
        }
      ]
    }
  ]
}